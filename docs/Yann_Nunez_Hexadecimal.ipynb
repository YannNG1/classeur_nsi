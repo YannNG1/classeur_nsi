{
 "cells": [
  {
   "cell_type": "markdown",
   "metadata": {},
   "source": [
    "# Le Bloc Note pour apprendre à coder en hexadécimal :\n",
    "\n",
    "Nous savons maintenant que de nos jours les ordinateurs comme pratiquement tous les systèmes numériques communiquent en faisant circuler des informations sous la forme de mots binaires à 8 bits = 1 octet que l'on nomme bytes même si cela n'a pas toujours été le cas : https://fr.wikipedia.org/wiki/Byte.\n",
    "\n",
    "Pour un humain (normalement constitué), il est fastidieux d'écrire ou de déchiffré à la volée de telles trames d'informations directement au format binaire :\n",
    "\n",
    "`010011100101001101001001001011000010000001100011001001110110010101110011011101000010000001100011011011110110111101101100001000000100001`\n",
    "\n",
    "Le format hexadécimal présente de façon plus condensée un message binaire constitué d'une suite d'octects."
   ]
  },
  {
   "cell_type": "markdown",
   "metadata": {
    "slideshow": {
     "slide_type": "slide"
    }
   },
   "source": [
    "# Système hexadécimal :"
   ]
  },
  {
   "cell_type": "markdown",
   "metadata": {},
   "source": [
    "C’est un système de base $16$ qui utilise donc seize symboles différents :\n",
    "\n",
    "$$ 0, 1, 2, 3, 4, 5, 6, 7, 8, 9, A, B, C, D, E, F$$\n",
    "\n",
    "Pour distinguer un nombre hexadécimal on indique le code ``0x`` (ou le symbole ``#``) avant le nombre ou l’indice $_{16}$ (ou $_h$) après le nombre.\n",
    "\n",
    "Les lettres A à F correspondent respectivement au nombre décimaux ? $10, 11, 12, 13, 14, 15$\n",
    "\n",
    "$AC53_{16}$ = $10 \\times 16^3 + 12 \\times 16^2 + 5 \\times 16^1 + 3 \\times 16^0$"
   ]
  },
  {
   "cell_type": "markdown",
   "metadata": {},
   "source": [
    "## Correspondance entre nombres de différentes bases :\n",
    "<img src=\"https://ericecmorlaix.github.io/img/Stepper-Correspondance.svg\" alt=\"Tableau de correspondance entre bases\">"
   ]
  },
  {
   "cell_type": "code",
   "execution_count": null,
   "metadata": {},
   "outputs": [],
   "source": [
    "## Changement de base :\n",
    "\n",
    "### Conversion d’un nombre hexadécimal en binaire.\n",
    "\n",
    "Chaque symbole du nombre écrit dans le système hexadécimal est remplacé par son équivalent écrit dans le système binaire.\n",
    "\n",
    "Exemple : Convertir $ECA_{16}$ = ${1110_2\\over E_{16}}{1100_2\\over C_{16}}{1010_2\\over A_{16}}$ = $1110 1100 1010_2$ \n",
    "\n",
    "\n",
    "### Conversion d’un nombre binaire en hexadécimal.\n",
    "\n",
    "C’est l’inverse de la précédente. Il faut donc regrouper les 1 et les 0 du nombre par 4 en commençant par la droite, quitte à rajouter des 0 à gauche, puis chaque groupe est remplacé par le symbole hexadécimal correspondant.\n",
    "\n",
    "Exemple : Convertir $1100001101111_2$ = ${1_{16}\\over 0001_2}{8_{16}\\over 1000_2}{6_{16}\\over 0110_2}{F_{16}\\over 1111_2}$ = $186F_{16}$\n"
   ]
  },
  {
   "cell_type": "markdown",
   "metadata": {},
   "source": [
    "<h3 class='fa fa-graduation-cap' style=\"color: MediumSeaGreen\"> A faire vous même n°1 :</h3>\n",
    "\n",
    "Recoder en hexadécimal la trame d'information binaire donnée au début de ce notebook."
   ]
  },
  {
   "cell_type": "code",
   "execution_count": 4,
   "metadata": {},
   "outputs": [
    {
     "name": "stdout",
     "output_type": "stream",
     "text": [
      "0x4e53492c20632765737420636f6f6c2042\n"
     ]
    }
   ],
   "source": [
    "a = int(0b0100111001010011010010010010110000100000011000110010011101100101011100110111010000100000011000110110111101101111011011000010000001000010)\n",
    "b = hex(a)\n",
    "print(b)"
   ]
  },
  {
   "cell_type": "code",
   "execution_count": 10,
   "metadata": {},
   "outputs": [
    {
     "name": "stdout",
     "output_type": "stream",
     "text": [
      "0b1110011\n"
     ]
    }
   ],
   "source": [
    "print(bin(115))"
   ]
  },
  {
   "cell_type": "markdown",
   "metadata": {},
   "source": [
    "<h3 class='fa fa-graduation-cap' style=\"color: darkorange\"> A faire vous même n°2 :</h3>\n",
    "\n",
    "L'objectif de cet exercice est de convertir des nombres entiers donnés en décimal, en binaire ou en héxadécimal, pour dessiner une image matricielle dans un quadrillage $8 \\times 8$.\n",
    "\n",
    "Chaque case de l'image correspond à un bit. Une ligne de l'image fait 8 cases, soit 8 bits ou 1 octet.\n",
    "\n",
    "Lorsque le bit est à 1 alors la case est noire, lorsque le bit est à 0 alors la case est blanche.\n",
    "\n",
    "#### Exemple :\n",
    "\n",
    "<img src=\"https://ericecmorlaix.github.io/img/NSI-Exemple-2D_Code.png\" alt=\"ExerciceCodage.png\">\n",
    "\n",
    "#### A faire vous même : **compléter** le quadrillage pour découvrir l'image...\n",
    "\n",
    "<img src=\"https://ericecmorlaix.github.io/img/NSI-2D_Code.png\" alt=\"ExerciceCodage.png\">\n",
    "\n",
    "#### Vérification :\n",
    "\n",
    "Un moyen de vérifer si on n'a pas fait d'erreur est de fournir un nombre qui pourrait être un code de validation.\n",
    "\n",
    "Cette méthode n'est pas fiable à 100% mais elle permet très souvent de savoir si une erreur a été commise.\n",
    "\n",
    "Pour chaque colonne, on compte le nombre de 1 ; si ce nombre est pair, on marque 0 ; s'il est impair, on marque 1. On obtient ainsi un nombre 8 bits (1 pour chaque colonne).\n",
    "\n",
    "Le code de validation de l'image ci-dessus est égal à 202. Utilisez-le pour valider votre codage.\n",
    "\n",
    "<img src=\"https://ericecmorlaix.github.io/img/NSI-Validation-2D_Code.png\" alt=\"ExerciceCodage.png\">"
   ]
  },
  {
   "cell_type": "markdown",
   "metadata": {},
   "source": [
    "## Fonctions de conversion de Python :\n",
    "\n",
    "La fonction `bin()` permet de convertir un nombre en binaire :"
   ]
  },
  {
   "cell_type": "code",
   "execution_count": 16,
   "metadata": {},
   "outputs": [
    {
     "data": {
      "text/plain": [
       "'0b1011011'"
      ]
     },
     "execution_count": 16,
     "metadata": {},
     "output_type": "execute_result"
    }
   ],
   "source": [
    "bin(91)"
   ]
  },
  {
   "cell_type": "code",
   "execution_count": 13,
   "metadata": {},
   "outputs": [
    {
     "data": {
      "text/plain": [
       "'0b1011011'"
      ]
     },
     "execution_count": 13,
     "metadata": {},
     "output_type": "execute_result"
    }
   ],
   "source": [
    "bin(0x5b)"
   ]
  },
  {
   "cell_type": "markdown",
   "metadata": {},
   "source": [
    "La fonction `hex()` permet de convertir un nombre en hexadécimal :"
   ]
  },
  {
   "cell_type": "code",
   "execution_count": 14,
   "metadata": {},
   "outputs": [
    {
     "data": {
      "text/plain": [
       "'0x5b'"
      ]
     },
     "execution_count": 14,
     "metadata": {},
     "output_type": "execute_result"
    }
   ],
   "source": [
    "hex(91)"
   ]
  },
  {
   "cell_type": "code",
   "execution_count": 15,
   "metadata": {},
   "outputs": [
    {
     "data": {
      "text/plain": [
       "'0x5b'"
      ]
     },
     "execution_count": 15,
     "metadata": {},
     "output_type": "execute_result"
    }
   ],
   "source": [
    "hex(0b1011011)"
   ]
  },
  {
   "cell_type": "markdown",
   "metadata": {},
   "source": [
    "La fonction `int()` permet de convertir un nombre en décimal :"
   ]
  },
  {
   "cell_type": "code",
   "execution_count": 17,
   "metadata": {},
   "outputs": [
    {
     "data": {
      "text/plain": [
       "983"
      ]
     },
     "execution_count": 17,
     "metadata": {},
     "output_type": "execute_result"
    }
   ],
   "source": [
    "int(0b1111010111)"
   ]
  },
  {
   "cell_type": "code",
   "execution_count": 18,
   "metadata": {
    "scrolled": true
   },
   "outputs": [
    {
     "data": {
      "text/plain": [
       "91"
      ]
     },
     "execution_count": 18,
     "metadata": {},
     "output_type": "execute_result"
    }
   ],
   "source": [
    "int(0x5b)"
   ]
  },
  {
   "cell_type": "markdown",
   "metadata": {},
   "source": [
    "## Codage Hexadécimal des couleurs :\n",
    "Les couleurs RVB peuvent être exprimées dans différents formats comme : (34,255,67) ou #90FF56.\n",
    "\n",
    "(34,255,67) indique les composantes Rouge=34, Vert=255, Bleu=67 avec des nombres en base 10.\n",
    "\n",
    "Tandis que #90FF56 indique Rouge=90, Vert=FF, Bleu=56 en base 16.\n",
    "\n",
    "Le préfixe # indique seulement qu'il s'agit d'une écriture hexadécimale.\n",
    "\n",
    "<h3 class='fa fa-graduation-cap' style=\"color: MediumSeaGreen\"> A faire vous même n°3 :</h3>\n",
    "\n",
    "- Les deux codes proposés ci-dessus, (34,255,67) et #90FF56, représentent-ils la même couleur ?\n",
    "\n",
    "Non. hex(67) ≠ 0x56\n",
    "\n",
    "Vérifiez votre réponse avec le module `ipythonblocks` et son sélectionneur de couleur intégré :\n",
    "\n",
    "> Sur iPad, vérifier si le module `ipythonblocks` est déjà installé :\n",
    "```Python\n",
    "%pip list\n",
    "```\n",
    "> Sinon il faut l'installer en faisant :\n",
    "```Python\n",
    "%pip install ipythonblocks\n",
    "```"
   ]
  },
  {
   "cell_type": "code",
   "execution_count": 2,
   "metadata": {},
   "outputs": [
    {
     "name": "stdout",
     "output_type": "stream",
     "text": [
      "Defaulting to user installation because normal site-packages is not writeable\n",
      "Requirement already satisfied: ipythonblocks in /private/var/mobile/Containers/Data/Application/07FB604F-F931-4733-9C46-C7455CDFCCE9/Library/lib/python3.9/site-packages (1.9.0)\n",
      "Requirement already satisfied: ipython>=4.0 in /private/var/containers/Bundle/Application/3D2D5898-E700-4B69-BCC1-723308A84E4A/Carnets.app/Library/lib/python3.9/site-packages (from ipythonblocks) (8.4.0)\n",
      "Requirement already satisfied: requests>=1.0 in /private/var/containers/Bundle/Application/3D2D5898-E700-4B69-BCC1-723308A84E4A/Carnets.app/Library/lib/python3.9/site-packages (from ipythonblocks) (2.28.0)\n",
      "Requirement already satisfied: notebook>=4.0 in /private/var/containers/Bundle/Application/3D2D5898-E700-4B69-BCC1-723308A84E4A/Carnets.app/Library/lib/python3.9/site-packages (from ipythonblocks) (6.5.0.dev0)\n",
      "Requirement already satisfied: setuptools>=18.5 in /private/var/containers/Bundle/Application/3D2D5898-E700-4B69-BCC1-723308A84E4A/Carnets.app/Library/lib/python3.9/site-packages (from ipython>=4.0->ipythonblocks) (62.6.0)\n",
      "Requirement already satisfied: pickleshare in /private/var/containers/Bundle/Application/3D2D5898-E700-4B69-BCC1-723308A84E4A/Carnets.app/Library/lib/python3.9/site-packages (from ipython>=4.0->ipythonblocks) (0.7.5)\n",
      "Requirement already satisfied: traitlets>=5 in /private/var/containers/Bundle/Application/3D2D5898-E700-4B69-BCC1-723308A84E4A/Carnets.app/Library/lib/python3.9/site-packages (from ipython>=4.0->ipythonblocks) (5.3.0)\n",
      "Requirement already satisfied: decorator in /private/var/containers/Bundle/Application/3D2D5898-E700-4B69-BCC1-723308A84E4A/Carnets.app/Library/lib/python3.9/site-packages (from ipython>=4.0->ipythonblocks) (5.1.1)\n",
      "Requirement already satisfied: prompt-toolkit!=3.0.0,!=3.0.1,<3.1.0,>=2.0.0 in /private/var/containers/Bundle/Application/3D2D5898-E700-4B69-BCC1-723308A84E4A/Carnets.app/Library/lib/python3.9/site-packages (from ipython>=4.0->ipythonblocks) (3.0.29)\n",
      "Requirement already satisfied: pygments>=2.4.0 in /private/var/containers/Bundle/Application/3D2D5898-E700-4B69-BCC1-723308A84E4A/Carnets.app/Library/lib/python3.9/site-packages (from ipython>=4.0->ipythonblocks) (2.12.0)\n",
      "Requirement already satisfied: backcall in /private/var/containers/Bundle/Application/3D2D5898-E700-4B69-BCC1-723308A84E4A/Carnets.app/Library/lib/python3.9/site-packages (from ipython>=4.0->ipythonblocks) (0.2.0)\n",
      "Requirement already satisfied: stack-data in /private/var/containers/Bundle/Application/3D2D5898-E700-4B69-BCC1-723308A84E4A/Carnets.app/Library/lib/python3.9/site-packages (from ipython>=4.0->ipythonblocks) (0.3.0)\n",
      "Requirement already satisfied: pexpect>4.3 in /private/var/containers/Bundle/Application/3D2D5898-E700-4B69-BCC1-723308A84E4A/Carnets.app/Library/lib/python3.9/site-packages (from ipython>=4.0->ipythonblocks) (4.8.0)\n",
      "Requirement already satisfied: jedi>=0.16 in /private/var/containers/Bundle/Application/3D2D5898-E700-4B69-BCC1-723308A84E4A/Carnets.app/Library/lib/python3.9/site-packages (from ipython>=4.0->ipythonblocks) (0.18.1)\n",
      "Requirement already satisfied: matplotlib-inline in /private/var/containers/Bundle/Application/3D2D5898-E700-4B69-BCC1-723308A84E4A/Carnets.app/Library/lib/python3.9/site-packages (from ipython>=4.0->ipythonblocks) (0.1.3)\n",
      "Requirement already satisfied: appnope in /private/var/containers/Bundle/Application/3D2D5898-E700-4B69-BCC1-723308A84E4A/Carnets.app/Library/lib/python3.9/site-packages (from ipython>=4.0->ipythonblocks) (0.1.3)\n",
      "Requirement already satisfied: terminado>=0.8.3 in /private/var/containers/Bundle/Application/3D2D5898-E700-4B69-BCC1-723308A84E4A/Carnets.app/Library/lib/python3.9/site-packages (from notebook>=4.0->ipythonblocks) (0.15.0)\n",
      "Requirement already satisfied: jupyter-core>=4.6.1 in /private/var/containers/Bundle/Application/3D2D5898-E700-4B69-BCC1-723308A84E4A/Carnets.app/Library/lib/python3.9/site-packages (from notebook>=4.0->ipythonblocks) (4.10.0)\n",
      "Requirement already satisfied: pyzmq>=17 in /private/var/containers/Bundle/Application/3D2D5898-E700-4B69-BCC1-723308A84E4A/Carnets.app/Library/lib/python3.9/site-packages/pyzmq-23.1.0-py3.9-macosx-11.5-x86_64.egg (from notebook>=4.0->ipythonblocks) (23.1.0)\n",
      "Requirement already satisfied: nest-asyncio>=1.5 in /private/var/containers/Bundle/Application/3D2D5898-E700-4B69-BCC1-723308A84E4A/Carnets.app/Library/lib/python3.9/site-packages (from notebook>=4.0->ipythonblocks) (1.5.5)\n",
      "Requirement already satisfied: nbformat in /private/var/containers/Bundle/Application/3D2D5898-E700-4B69-BCC1-723308A84E4A/Carnets.app/Library/lib/python3.9/site-packages (from notebook>=4.0->ipythonblocks) (5.4.0)\n",
      "Requirement already satisfied: ipykernel in /private/var/containers/Bundle/Application/3D2D5898-E700-4B69-BCC1-723308A84E4A/Carnets.app/Library/lib/python3.9/site-packages (from notebook>=4.0->ipythonblocks) (6.5.0)\n",
      "Requirement already satisfied: prometheus-client in /private/var/containers/Bundle/Application/3D2D5898-E700-4B69-BCC1-723308A84E4A/Carnets.app/Library/lib/python3.9/site-packages (from notebook>=4.0->ipythonblocks) (0.14.1)\n",
      "Requirement already satisfied: ipython-genutils in /private/var/containers/Bundle/Application/3D2D5898-E700-4B69-BCC1-723308A84E4A/Carnets.app/Library/lib/python3.9/site-packages (from notebook>=4.0->ipythonblocks) (0.2.0)\n",
      "Requirement already satisfied: jupyter-client>=5.3.4 in /private/var/containers/Bundle/Application/3D2D5898-E700-4B69-BCC1-723308A84E4A/Carnets.app/Library/lib/python3.9/site-packages (from notebook>=4.0->ipythonblocks) (7.3.4)\n",
      "Requirement already satisfied: tornado>=6.1 in /private/var/containers/Bundle/Application/3D2D5898-E700-4B69-BCC1-723308A84E4A/Carnets.app/Library/lib/python3.9/site-packages (from notebook>=4.0->ipythonblocks) (6.1)\n",
      "Requirement already satisfied: Send2Trash>=1.8.0 in /private/var/containers/Bundle/Application/3D2D5898-E700-4B69-BCC1-723308A84E4A/Carnets.app/Library/lib/python3.9/site-packages (from notebook>=4.0->ipythonblocks) (1.8.0)\n",
      "Requirement already satisfied: argon2-cffi in /private/var/containers/Bundle/Application/3D2D5898-E700-4B69-BCC1-723308A84E4A/Carnets.app/Library/lib/python3.9/site-packages (from notebook>=4.0->ipythonblocks) (21.3.0)\n",
      "Requirement already satisfied: jinja2 in /private/var/containers/Bundle/Application/3D2D5898-E700-4B69-BCC1-723308A84E4A/Carnets.app/Library/lib/python3.9/site-packages (from notebook>=4.0->ipythonblocks) (3.1.2)\n",
      "Requirement already satisfied: nbconvert in /private/var/containers/Bundle/Application/3D2D5898-E700-4B69-BCC1-723308A84E4A/Carnets.app/Library/lib/python3.9/site-packages (from notebook>=4.0->ipythonblocks) (6.5.0)\n",
      "Requirement already satisfied: charset-normalizer~=2.0.0 in /private/var/containers/Bundle/Application/3D2D5898-E700-4B69-BCC1-723308A84E4A/Carnets.app/Library/lib/python3.9/site-packages (from requests>=1.0->ipythonblocks) (2.0.12)\n",
      "Requirement already satisfied: idna<4,>=2.5 in /private/var/containers/Bundle/Application/3D2D5898-E700-4B69-BCC1-723308A84E4A/Carnets.app/Library/lib/python3.9/site-packages (from requests>=1.0->ipythonblocks) (3.3)\n",
      "Requirement already satisfied: urllib3<1.27,>=1.21.1 in /private/var/containers/Bundle/Application/3D2D5898-E700-4B69-BCC1-723308A84E4A/Carnets.app/Library/lib/python3.9/site-packages (from requests>=1.0->ipythonblocks) (1.26.9)\n",
      "Requirement already satisfied: certifi>=2017.4.17 in /private/var/containers/Bundle/Application/3D2D5898-E700-4B69-BCC1-723308A84E4A/Carnets.app/Library/lib/python3.9/site-packages (from requests>=1.0->ipythonblocks) (2022.6.15)\n",
      "Requirement already satisfied: parso<0.9.0,>=0.8.0 in /private/var/containers/Bundle/Application/3D2D5898-E700-4B69-BCC1-723308A84E4A/Carnets.app/Library/lib/python3.9/site-packages (from jedi>=0.16->ipython>=4.0->ipythonblocks) (0.8.3)\n",
      "Requirement already satisfied: python-dateutil>=2.8.2 in /private/var/containers/Bundle/Application/3D2D5898-E700-4B69-BCC1-723308A84E4A/Carnets.app/Library/lib/python3.9/site-packages (from jupyter-client>=5.3.4->notebook>=4.0->ipythonblocks) (2.8.2)\n",
      "Requirement already satisfied: entrypoints in /private/var/containers/Bundle/Application/3D2D5898-E700-4B69-BCC1-723308A84E4A/Carnets.app/Library/lib/python3.9/site-packages (from jupyter-client>=5.3.4->notebook>=4.0->ipythonblocks) (0.4)\n"
     ]
    },
    {
     "name": "stdout",
     "output_type": "stream",
     "text": [
      "Requirement already satisfied: ptyprocess>=0.5 in /private/var/containers/Bundle/Application/3D2D5898-E700-4B69-BCC1-723308A84E4A/Carnets.app/Library/lib/python3.9/site-packages (from pexpect>4.3->ipython>=4.0->ipythonblocks) (0.7.0)\n",
      "Requirement already satisfied: wcwidth in /private/var/containers/Bundle/Application/3D2D5898-E700-4B69-BCC1-723308A84E4A/Carnets.app/Library/lib/python3.9/site-packages (from prompt-toolkit!=3.0.0,!=3.0.1,<3.1.0,>=2.0.0->ipython>=4.0->ipythonblocks) (0.2.5)\n",
      "Requirement already satisfied: argon2-cffi-bindings in /private/var/containers/Bundle/Application/3D2D5898-E700-4B69-BCC1-723308A84E4A/Carnets.app/Library/lib/python3.9/site-packages (from argon2-cffi->notebook>=4.0->ipythonblocks) (21.2.0)\n",
      "Requirement already satisfied: debugpy<2.0,>=1.0.0 in /private/var/containers/Bundle/Application/3D2D5898-E700-4B69-BCC1-723308A84E4A/Carnets.app/Library/lib/python3.9/site-packages (from ipykernel->notebook>=4.0->ipythonblocks) (1.6.0)\n",
      "Requirement already satisfied: MarkupSafe>=2.0 in /private/var/containers/Bundle/Application/3D2D5898-E700-4B69-BCC1-723308A84E4A/Carnets.app/Library/lib/python3.9/site-packages (from jinja2->notebook>=4.0->ipythonblocks) (2.1.1)\n",
      "Requirement already satisfied: beautifulsoup4 in /private/var/containers/Bundle/Application/3D2D5898-E700-4B69-BCC1-723308A84E4A/Carnets.app/Library/lib/python3.9/site-packages (from nbconvert->notebook>=4.0->ipythonblocks) (4.11.1)\n",
      "Requirement already satisfied: bleach in /private/var/containers/Bundle/Application/3D2D5898-E700-4B69-BCC1-723308A84E4A/Carnets.app/Library/lib/python3.9/site-packages (from nbconvert->notebook>=4.0->ipythonblocks) (5.0.0)\n",
      "Requirement already satisfied: packaging in /private/var/containers/Bundle/Application/3D2D5898-E700-4B69-BCC1-723308A84E4A/Carnets.app/Library/lib/python3.9/site-packages (from nbconvert->notebook>=4.0->ipythonblocks) (21.3)\n",
      "Requirement already satisfied: pandocfilters>=1.4.1 in /private/var/containers/Bundle/Application/3D2D5898-E700-4B69-BCC1-723308A84E4A/Carnets.app/Library/lib/python3.9/site-packages (from nbconvert->notebook>=4.0->ipythonblocks) (1.5.0)\n",
      "Requirement already satisfied: tinycss2 in /private/var/containers/Bundle/Application/3D2D5898-E700-4B69-BCC1-723308A84E4A/Carnets.app/Library/lib/python3.9/site-packages (from nbconvert->notebook>=4.0->ipythonblocks) (1.1.1)\n",
      "Requirement already satisfied: mistune<2,>=0.8.1 in /private/var/containers/Bundle/Application/3D2D5898-E700-4B69-BCC1-723308A84E4A/Carnets.app/Library/lib/python3.9/site-packages (from nbconvert->notebook>=4.0->ipythonblocks) (0.8.4)\n",
      "Requirement already satisfied: nbclient>=0.5.0 in /private/var/containers/Bundle/Application/3D2D5898-E700-4B69-BCC1-723308A84E4A/Carnets.app/Library/lib/python3.9/site-packages (from nbconvert->notebook>=4.0->ipythonblocks) (0.6.4)\n",
      "Requirement already satisfied: jupyterlab-pygments in /private/var/containers/Bundle/Application/3D2D5898-E700-4B69-BCC1-723308A84E4A/Carnets.app/Library/lib/python3.9/site-packages (from nbconvert->notebook>=4.0->ipythonblocks) (0.2.2)\n",
      "Requirement already satisfied: defusedxml in /private/var/containers/Bundle/Application/3D2D5898-E700-4B69-BCC1-723308A84E4A/Carnets.app/Library/lib/python3.9/site-packages (from nbconvert->notebook>=4.0->ipythonblocks) (0.7.1)\n",
      "Requirement already satisfied: jsonschema>=2.6 in /private/var/containers/Bundle/Application/3D2D5898-E700-4B69-BCC1-723308A84E4A/Carnets.app/Library/lib/python3.9/site-packages (from nbformat->notebook>=4.0->ipythonblocks) (4.6.0)\n",
      "Requirement already satisfied: fastjsonschema in /private/var/containers/Bundle/Application/3D2D5898-E700-4B69-BCC1-723308A84E4A/Carnets.app/Library/lib/python3.9/site-packages (from nbformat->notebook>=4.0->ipythonblocks) (2.15.3)\n",
      "Requirement already satisfied: executing in /private/var/containers/Bundle/Application/3D2D5898-E700-4B69-BCC1-723308A84E4A/Carnets.app/Library/lib/python3.9/site-packages (from stack-data->ipython>=4.0->ipythonblocks) (0.8.3)\n",
      "Requirement already satisfied: pure-eval in /private/var/containers/Bundle/Application/3D2D5898-E700-4B69-BCC1-723308A84E4A/Carnets.app/Library/lib/python3.9/site-packages (from stack-data->ipython>=4.0->ipythonblocks) (0.2.2)\n",
      "Requirement already satisfied: asttokens in /private/var/containers/Bundle/Application/3D2D5898-E700-4B69-BCC1-723308A84E4A/Carnets.app/Library/lib/python3.9/site-packages (from stack-data->ipython>=4.0->ipythonblocks) (2.0.5)\n",
      "Requirement already satisfied: attrs>=17.4.0 in /private/var/containers/Bundle/Application/3D2D5898-E700-4B69-BCC1-723308A84E4A/Carnets.app/Library/lib/python3.9/site-packages (from jsonschema>=2.6->nbformat->notebook>=4.0->ipythonblocks) (21.4.0)\n",
      "Requirement already satisfied: pyrsistent!=0.17.0,!=0.17.1,!=0.17.2,>=0.14.0 in /private/var/containers/Bundle/Application/3D2D5898-E700-4B69-BCC1-723308A84E4A/Carnets.app/Library/lib/python3.9/site-packages (from jsonschema>=2.6->nbformat->notebook>=4.0->ipythonblocks) (0.18.1)\n",
      "Requirement already satisfied: six>=1.5 in /private/var/containers/Bundle/Application/3D2D5898-E700-4B69-BCC1-723308A84E4A/Carnets.app/Library/lib/python3.9/site-packages (from python-dateutil>=2.8.2->jupyter-client>=5.3.4->notebook>=4.0->ipythonblocks) (1.16.0)\n",
      "Requirement already satisfied: cffi>=1.0.1 in /private/var/containers/Bundle/Application/3D2D5898-E700-4B69-BCC1-723308A84E4A/Carnets.app/Library/lib/python3.9/site-packages (from argon2-cffi-bindings->argon2-cffi->notebook>=4.0->ipythonblocks) (1.14.2)\n",
      "Requirement already satisfied: soupsieve>1.2 in /private/var/containers/Bundle/Application/3D2D5898-E700-4B69-BCC1-723308A84E4A/Carnets.app/Library/lib/python3.9/site-packages (from beautifulsoup4->nbconvert->notebook>=4.0->ipythonblocks) (2.3.2.post1)\n",
      "Requirement already satisfied: webencodings in /private/var/containers/Bundle/Application/3D2D5898-E700-4B69-BCC1-723308A84E4A/Carnets.app/Library/lib/python3.9/site-packages (from bleach->nbconvert->notebook>=4.0->ipythonblocks) (0.5.1)\n",
      "Requirement already satisfied: pyparsing!=3.0.5,>=2.0.2 in /private/var/containers/Bundle/Application/3D2D5898-E700-4B69-BCC1-723308A84E4A/Carnets.app/Library/lib/python3.9/site-packages (from packaging->nbconvert->notebook>=4.0->ipythonblocks) (3.0.9)\n",
      "Requirement already satisfied: pycparser in /private/var/containers/Bundle/Application/3D2D5898-E700-4B69-BCC1-723308A84E4A/Carnets.app/Library/lib/python3.9/site-packages (from cffi>=1.0.1->argon2-cffi-bindings->argon2-cffi->notebook>=4.0->ipythonblocks) (2.21)\n",
      "\n",
      "[notice] A new release of pip available: 22.1.2 -> 22.2.2\n",
      "[notice] To update, run: pip install --upgrade pip\n",
      "Note: you may need to restart the kernel to use updated packages.\n"
     ]
    }
   ],
   "source": [
    "%pip install ipythonblocks"
   ]
  },
  {
   "cell_type": "code",
   "execution_count": 7,
   "metadata": {},
   "outputs": [],
   "source": [
    "from ipythonblocks import show_color, embed_colorpicker"
   ]
  },
  {
   "cell_type": "code",
   "execution_count": 12,
   "metadata": {
    "scrolled": true
   },
   "outputs": [
    {
     "data": {
      "text/html": [
       "<div style=\"height: 60px; min-width: 200px; background-color: rgb(34, 255, 67)\"></div>"
      ],
      "text/plain": [
       "<IPython.core.display.HTML object>"
      ]
     },
     "metadata": {},
     "output_type": "display_data"
    }
   ],
   "source": [
    "show_color(34,255,67)"
   ]
  },
  {
   "cell_type": "code",
   "execution_count": 6,
   "metadata": {},
   "outputs": [
    {
     "data": {
      "text/html": [
       "\n",
       "        <iframe\n",
       "            width=\"100%\"\n",
       "            height=\"550px\"\n",
       "            src=\"http://www.colorpicker.com/\"\n",
       "            frameborder=\"0\"\n",
       "            allowfullscreen\n",
       "            \n",
       "        ></iframe>\n",
       "        "
      ],
      "text/plain": [
       "<IPython.lib.display.IFrame at 0x12c6eb9d0>"
      ]
     },
     "metadata": {},
     "output_type": "display_data"
    }
   ],
   "source": [
    "embed_colorpicker()"
   ]
  },
  {
   "cell_type": "markdown",
   "metadata": {},
   "source": [
    "> Pour plus d'information sur les couleurs utilisées en HTML :\n",
    "> - https://htmlcolorcodes.com/fr/selecteur-de-couleur/"
   ]
  },
  {
   "cell_type": "markdown",
   "metadata": {},
   "source": [
    "<h3 class='fa fa-code' style=\"color: tomato\"> A faire vous même n°4 :</h3>\n",
    "\n",
    "On observe que le module `ipythonbloks` ne prend pas les codes couleurs au format hexadécimal.\n",
    "Nous aurions donc besoin d'une fonction python qui prenne en entrée une chaine de caractères correspondante au code hexadécimal d'une couleur et qui renvoie son code convertit au format décimal dans une chaine de caractères en sortie...\n"
   ]
  },
  {
   "cell_type": "code",
   "execution_count": 24,
   "metadata": {},
   "outputs": [],
   "source": [
    "def hextorvb(h):\n",
    "    \n",
    "    r = \"0x\" + h[1] + h[2]\n",
    "    v = \"0x\" + h[3] + h[4]\n",
    "    b = \"0x\" + h[5] + h[6]\n",
    "\n",
    "    print(f\"{int(r, base=16)},{int(v, base=16)},{int(b, base=16)}\")\n",
    "    "
   ]
  },
  {
   "cell_type": "code",
   "execution_count": 26,
   "metadata": {},
   "outputs": [
    {
     "name": "stdout",
     "output_type": "stream",
     "text": [
      "215,186,206\n"
     ]
    }
   ],
   "source": [
    "hextorvb(\"#d7bace\")"
   ]
  },
  {
   "cell_type": "code",
   "execution_count": 3,
   "metadata": {},
   "outputs": [],
   "source": [
    "def rvb(r,v,b):\n",
    "    '''\n",
    "    Cette fonction permet de mettre un code couleur en format RVB\n",
    "    en code couleur Hexadécimal. \n",
    "    '''\n",
    "    \n",
    "    rouge = hex(r)[2:]\n",
    "    bleu = hex(b)[2:]\n",
    "    vert =  hex(v)[2:]\n",
    "    chaine = rouge + vert + bleu\n",
    "    print(chaine)"
   ]
  },
  {
   "cell_type": "code",
   "execution_count": 2,
   "metadata": {
    "scrolled": true
   },
   "outputs": [
    {
     "name": "stdout",
     "output_type": "stream",
     "text": [
      "22ff43\n"
     ]
    }
   ],
   "source": [
    "rvb(34,255,67)"
   ]
  },
  {
   "cell_type": "markdown",
   "metadata": {},
   "source": [
    "****\n",
    "## Références aux programmes :\n",
    "\n",
    "<style type=\"text/css\">\n",
    ".tg  {border-collapse:collapse;border-spacing:0;}\n",
    ".tg td{font-family:Arial, sans-serif;font-size:14px;padding:10px 5px;border-style:solid;border-width:1px;overflow:hidden;word-break:normal;border-color:black;}\n",
    ".tg th{font-family:Arial, sans-serif;font-size:14px;font-weight:normal;padding:10px 5px;border-style:solid;border-width:1px;overflow:hidden;word-break:normal;border-color:black;}\n",
    ".tg .tg-cv16{font-weight:bold;background-color:#dae8fc;border-color:inherit;text-align:center}\n",
    ".tg .tg-xldj{border-color:inherit;text-align:left}\n",
    "</style>\n",
    "<table class=\"tg\">\n",
    "  <tr>\n",
    "    <th class=\"tg-cv16\">Compétences développées</th>\n",
    "    <th class=\"tg-cv16\">Capacités attendues</th>\n",
    "    <th class=\"tg-cv16\">Commentaires</th>\n",
    "  </tr>\n",
    "  <tr>\n",
    "    <td class=\"tg-xldj\">Écriture d’un entier positif dans une base b ⩾ 2</td>\n",
    "    <td class=\"tg-xldj\">Passer de la représentation d’une base dans une autre.</td>\n",
    "    <td class=\"tg-xldj\">Les bases 2, 10 et 16 sont privilégiées.</td>\n",
    "  </tr>\n",
    "</table>"
   ]
  },
  {
   "cell_type": "markdown",
   "metadata": {
    "slideshow": {
     "slide_type": "-"
    }
   },
   "source": [
    "<a rel=\"license\" href=\"http://creativecommons.org/licenses/by-sa/4.0/\"><img alt=\"Licence Creative Commons\" style=\"border-width:0\" src=\"https://i.creativecommons.org/l/by-sa/4.0/88x31.png\" /></a><br />Ce document est mis à disposition selon les termes de la <a rel=\"license\" href=\"http://creativecommons.org/licenses/by-sa/4.0/\">Licence Creative Commons Attribution -  Partage dans les Mêmes Conditions 4.0 International</a>.\n",
    "\n",
    "Pour toute question, suggestion ou commentaire : <a href=\"mailto:eric.madec@ecmorlaix.fr\">eric.madec@ecmorlaix.fr</a>"
   ]
  }
 ],
 "metadata": {
  "gist": {
   "data": {
    "description": "1SI_2019-2020/ChaineInformation-Numeration.ipynb",
    "public": true
   },
   "id": ""
  },
  "hide_input": false,
  "kernelspec": {
   "display_name": "Python 3",
   "language": "python",
   "name": "python3"
  },
  "language_info": {
   "codemirror_mode": {
    "name": "ipython",
    "version": 3
   },
   "file_extension": ".py",
   "mimetype": "text/x-python",
   "name": "python",
   "nbconvert_exporter": "python",
   "pygments_lexer": "ipython3",
   "version": "3.8.13"
  },
  "toc": {
   "base_numbering": 1,
   "nav_menu": {},
   "number_sections": true,
   "sideBar": true,
   "skip_h1_title": false,
   "title_cell": "Table of Contents",
   "title_sidebar": "Contents",
   "toc_cell": false,
   "toc_position": {},
   "toc_section_display": true,
   "toc_window_display": false
  },
  "varInspector": {
   "cols": {
    "lenName": 16,
    "lenType": 16,
    "lenVar": 40
   },
   "kernels_config": {
    "python": {
     "delete_cmd_postfix": "",
     "delete_cmd_prefix": "del ",
     "library": "var_list.py",
     "varRefreshCmd": "print(var_dic_list())"
    },
    "r": {
     "delete_cmd_postfix": ") ",
     "delete_cmd_prefix": "rm(",
     "library": "var_list.r",
     "varRefreshCmd": "cat(var_dic_list()) "
    }
   },
   "types_to_exclude": [
    "module",
    "function",
    "builtin_function_or_method",
    "instance",
    "_Feature"
   ],
   "window_display": false
  },
  "vscode": {
   "interpreter": {
    "hash": "9ac03a0a6051494cc606d484d27d20fce22fb7b4d169f583271e11d5ba46a56e"
   }
  }
 },
 "nbformat": 4,
 "nbformat_minor": 2
}

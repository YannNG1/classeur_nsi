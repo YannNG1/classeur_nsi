{
 "cells": [
  {
   "cell_type": "code",
   "execution_count": 1,
   "metadata": {},
   "outputs": [],
   "source": [
    "def tri3c(a,b,c):\n",
    "    if a>b:\n",
    "        (a,b)=(b,a)\n",
    "    if b>c:\n",
    "        (b,c)=(c,b)\n",
    "    if a>b:\n",
    "        (a,b)=(b,a)\n",
    "    print(a,b,c)"
   ]
  },
  {
   "cell_type": "code",
   "execution_count": 2,
   "metadata": {},
   "outputs": [
    {
     "name": "stdout",
     "output_type": "stream",
     "text": [
      "2 4 9\n"
     ]
    }
   ],
   "source": [
    "tri3c(9,2,4)"
   ]
  },
  {
   "cell_type": "code",
   "execution_count": 3,
   "metadata": {},
   "outputs": [],
   "source": [
    "def tri3d(a,b,c):\n",
    "    if a<b:\n",
    "        (a,b)=(b,a)\n",
    "    if b<c:\n",
    "        (b,c)=(c,b)\n",
    "    if a<b:\n",
    "        (a,b)=(b,a)\n",
    "    print(a,b,c)"
   ]
  },
  {
   "cell_type": "code",
   "execution_count": 4,
   "metadata": {},
   "outputs": [
    {
     "name": "stdout",
     "output_type": "stream",
     "text": [
      "9 4 2\n"
     ]
    }
   ],
   "source": [
    "tri3d(9,2,4)"
   ]
  },
  {
   "cell_type": "code",
   "execution_count": 5,
   "metadata": {},
   "outputs": [],
   "source": [
    "def tri3(a,b,c,reverse=False):\n",
    "    if reverse==True:\n",
    "        if a<b:\n",
    "            (a,b)=(b,a)\n",
    "        if b<c:\n",
    "            (b,c)=(c,b)\n",
    "        if a<b:\n",
    "            (a,b)=(b,a)\n",
    "    if reverse==False:\n",
    "        if a>b:\n",
    "            (a,b)=(b,a)\n",
    "        if b>c:\n",
    "            (b,c)=(c,b)\n",
    "        if a>b:\n",
    "            (a,b)=(b,a)\n",
    "    print(a,b,c)"
   ]
  },
  {
   "cell_type": "code",
   "execution_count": 6,
   "metadata": {},
   "outputs": [
    {
     "name": "stdout",
     "output_type": "stream",
     "text": [
      "9 4 2\n"
     ]
    }
   ],
   "source": [
    "tri3(9,2,4,True)"
   ]
  }
 ],
 "metadata": {
  "kernelspec": {
   "display_name": "Python 3",
   "language": "python",
   "name": "python3"
  },
  "language_info": {
   "codemirror_mode": {
    "name": "ipython",
    "version": 3
   },
   "file_extension": ".py",
   "mimetype": "text/x-python",
   "name": "python",
   "nbconvert_exporter": "python",
   "pygments_lexer": "ipython3",
   "version": "3.8.13 (default, Oct  4 2022, 14:00:32) \n[GCC 9.4.0]"
  },
  "orig_nbformat": 4,
  "vscode": {
   "interpreter": {
    "hash": "9ac03a0a6051494cc606d484d27d20fce22fb7b4d169f583271e11d5ba46a56e"
   }
  }
 },
 "nbformat": 4,
 "nbformat_minor": 2
}

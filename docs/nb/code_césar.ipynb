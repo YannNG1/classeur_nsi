{
 "cells": [
  {
   "cell_type": "code",
   "execution_count": 15,
   "metadata": {},
   "outputs": [
    {
     "name": "stdout",
     "output_type": "stream",
     "text": [
      "ERQMRXUI FRPPHQW °D YDV B\n"
     ]
    }
   ],
   "source": [
    "chaine_initiale = \"Bonjour, comment ça vas ?\"\n",
    "cle = 3\n",
    "chaine_majuscule = chaine.upper()\n",
    "chaine_chiffre = \"\"\n",
    "\n",
    "for i in range(len(chaine_initiale)):\n",
    "    if chaine_majuscule[i] == ' ':\n",
    "        chaine_chiffre += ' '\n",
    "    else:\n",
    "        ascii = ord(chaine_majuscule[i])+cle\n",
    "        chaine_chiffre += chr(ascii+26*((ascii<65)-(ascii>90)))\n",
    "\n",
    "print(chaine_chiffre)"
   ]
  }
 ],
 "metadata": {
  "kernelspec": {
   "display_name": "Python 3",
   "language": "python",
   "name": "python3"
  },
  "language_info": {
   "codemirror_mode": {
    "name": "ipython",
    "version": 3
   },
   "file_extension": ".py",
   "mimetype": "text/x-python",
   "name": "python",
   "nbconvert_exporter": "python",
   "pygments_lexer": "ipython3",
   "version": "3.8.13 (default, Oct  4 2022, 14:00:32) \n[GCC 9.4.0]"
  },
  "orig_nbformat": 4,
  "vscode": {
   "interpreter": {
    "hash": "9ac03a0a6051494cc606d484d27d20fce22fb7b4d169f583271e11d5ba46a56e"
   }
  }
 },
 "nbformat": 4,
 "nbformat_minor": 2
}
